{
 "cells": [
  {
   "cell_type": "code",
   "execution_count": 1,
   "id": "b0e3fe24-1417-4d6a-a54d-c2e28c8a79c7",
   "metadata": {},
   "outputs": [],
   "source": [
    "import json\n",
    "from nltk.stem import PorterStemmer\n",
    "import re"
   ]
  },
  {
   "cell_type": "code",
   "execution_count": 2,
   "id": "aa4cda5f-2d4f-40d2-9ba1-b981eb176b59",
   "metadata": {},
   "outputs": [],
   "source": [
    "# ---- Load inverted index ----\n",
    "with open(\"./input/inverted_index.json\", \"r\") as f:\n",
    "    inverted_index = json.load(f)\n"
   ]
  },
  {
   "cell_type": "code",
   "execution_count": 3,
   "id": "dccec500-8de3-4a6d-b777-d9029da3e75a",
   "metadata": {},
   "outputs": [],
   "source": [
    "ps = PorterStemmer()"
   ]
  },
  {
   "cell_type": "code",
   "execution_count": 4,
   "id": "b4102f5a-7b21-479d-a141-a430b0059897",
   "metadata": {},
   "outputs": [],
   "source": [
    "# ---- Query function (reusing from Assignment 3) ----\n",
    "def search(query, mode=\"OR\"):\n",
    "    words = re.findall(r\"\\b[a-z]+\\b\", query.lower())\n",
    "    stems = [ps.stem(w) for w in words]\n",
    "\n",
    "    result_sets = []\n",
    "    for stem in stems:\n",
    "        if stem in inverted_index:\n",
    "            result_sets.append(set(inverted_index[stem]))\n",
    "        else:\n",
    "            result_sets.append(set())\n",
    "    \n",
    "    if not result_sets:\n",
    "        return set()\n",
    "\n",
    "    if mode == \"AND\":\n",
    "        return set.intersection(*result_sets)\n",
    "    else:\n",
    "        return set.union(*result_sets)"
   ]
  },
  {
   "cell_type": "code",
   "execution_count": 5,
   "id": "0b191a30-7727-413a-bad1-73c1035265ca",
   "metadata": {},
   "outputs": [],
   "source": [
    "# ---- Precision & Recall ----\n",
    "def precision_recall(query, answer_set, mode=\"OR\"):\n",
    "    retrieved = search(query, mode)\n",
    "    relevant = set(answer_set)\n",
    "\n",
    "    true_positives = retrieved.intersection(relevant)\n",
    "\n",
    "    precision = len(true_positives) / len(retrieved) if retrieved else 0\n",
    "    recall = len(true_positives) / len(relevant) if relevant else 0\n",
    "\n",
    "    return retrieved, precision, recall"
   ]
  },
  {
   "cell_type": "code",
   "execution_count": 9,
   "id": "f6bcb266-193b-4c89-b180-7bda0fbbc0c7",
   "metadata": {},
   "outputs": [
    {
     "name": "stdout",
     "output_type": "stream",
     "text": [
      "Query: artificial intelligence\n",
      "Retrieved Docs: {'doc3.txt', 'doc1.txt', 'doc2.txt'}\n",
      "Answer Set (Relevant): ['doc1.txt', 'doc2.txt']\n",
      "Precision: 0.67\n",
      "Recall: 1.00\n"
     ]
    }
   ],
   "source": [
    "# ---- Example ----\n",
    "query = \"artificial intelligence\"\n",
    "answer_set = [\"doc1.txt\", \"doc2.txt\"]  # define manually\n",
    "\n",
    "retrieved, p, r = precision_recall(query, answer_set, mode=\"AND\")\n",
    "\n",
    "print(f\"Query: {query}\")\n",
    "print(f\"Retrieved Docs: {retrieved}\")\n",
    "print(f\"Answer Set (Relevant): {answer_set}\")\n",
    "print(f\"Precision: {p:.2f}\")\n",
    "print(f\"Recall: {r:.2f}\")"
   ]
  },
  {
   "cell_type": "code",
   "execution_count": null,
   "id": "e148fb6a-289e-4e99-98fd-68b7683bbbe2",
   "metadata": {},
   "outputs": [],
   "source": []
  }
 ],
 "metadata": {
  "kernelspec": {
   "display_name": "Python 3 (ipykernel)",
   "language": "python",
   "name": "python3"
  },
  "language_info": {
   "codemirror_mode": {
    "name": "ipython",
    "version": 3
   },
   "file_extension": ".py",
   "mimetype": "text/x-python",
   "name": "python",
   "nbconvert_exporter": "python",
   "pygments_lexer": "ipython3",
   "version": "3.11.8"
  }
 },
 "nbformat": 4,
 "nbformat_minor": 5
}
