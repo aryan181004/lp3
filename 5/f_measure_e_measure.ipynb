{
 "cells": [
  {
   "cell_type": "code",
   "execution_count": 1,
   "id": "b0e3fe24-1417-4d6a-a54d-c2e28c8a79c7",
   "metadata": {},
   "outputs": [],
   "source": [
    "import json\n",
    "from nltk.stem import PorterStemmer\n",
    "import re"
   ]
  },
  {
   "cell_type": "code",
   "execution_count": 2,
   "id": "aa4cda5f-2d4f-40d2-9ba1-b981eb176b59",
   "metadata": {},
   "outputs": [],
   "source": [
    "# ---- Load inverted index ----\n",
    "with open(\"./input/inverted_index.json\", \"r\") as f:\n",
    "    inverted_index = json.load(f)\n"
   ]
  },
  {
   "cell_type": "code",
   "execution_count": 3,
   "id": "dccec500-8de3-4a6d-b777-d9029da3e75a",
   "metadata": {},
   "outputs": [],
   "source": [
    "ps = PorterStemmer()"
   ]
  },
  {
   "cell_type": "code",
   "execution_count": 4,
   "id": "b4102f5a-7b21-479d-a141-a430b0059897",
   "metadata": {},
   "outputs": [],
   "source": [
    "# ---- Query function (reusing from Assignment 3) ----\n",
    "def search(query, mode=\"OR\"):\n",
    "    words = re.findall(r\"\\b[a-z]+\\b\", query.lower())\n",
    "    stems = [ps.stem(w) for w in words]\n",
    "\n",
    "    result_sets = []\n",
    "    for stem in stems:\n",
    "        if stem in inverted_index:\n",
    "            result_sets.append(set(inverted_index[stem]))\n",
    "        else:\n",
    "            result_sets.append(set())\n",
    "    \n",
    "    if not result_sets:\n",
    "        return set()\n",
    "\n",
    "    if mode == \"AND\":\n",
    "        return set.intersection(*result_sets)\n",
    "    else:\n",
    "        return set.union(*result_sets)"
   ]
  },
  {
   "cell_type": "code",
   "execution_count": 5,
   "id": "0b191a30-7727-413a-bad1-73c1035265ca",
   "metadata": {},
   "outputs": [],
   "source": [
    "# ---- Precision & Recall ----\n",
    "def precision_recall(query, answer_set, mode=\"OR\"):\n",
    "    retrieved = search(query, mode)\n",
    "    relevant = set(answer_set)\n",
    "\n",
    "    true_positives = retrieved.intersection(relevant)\n",
    "\n",
    "    precision = len(true_positives) / len(retrieved) if retrieved else 0\n",
    "    recall = len(true_positives) / len(relevant) if relevant else 0\n",
    "\n",
    "    return retrieved, precision, recall"
   ]
  },
  {
   "cell_type": "code",
   "execution_count": 6,
   "id": "b4203629-c5d8-4c23-b464-b0caf43c4da7",
   "metadata": {},
   "outputs": [],
   "source": [
    "def f_and_e_scores(precision, recall, beta=1.0):\n",
    "    # F-measure (F1)\n",
    "    if precision + recall > 0:\n",
    "        f_measure = 2 * precision * recall / (precision + recall)\n",
    "    else:\n",
    "        f_measure = 0\n",
    "\n",
    "    # E-measure\n",
    "    if precision == 0 and recall == 0:\n",
    "        e_measure = 1\n",
    "    else:\n",
    "        e_measure = 1 - ((1 + beta**2) * precision * recall) / (beta**2 * precision + recall)\n",
    "\n",
    "    return f_measure, e_measure"
   ]
  },
  {
   "cell_type": "code",
   "execution_count": 7,
   "id": "f6bcb266-193b-4c89-b180-7bda0fbbc0c7",
   "metadata": {},
   "outputs": [],
   "source": [
    "# ---- Example ----\n",
    "query = \"artificial intelligence\"\n",
    "answer_set = [\"doc1.txt\", \"doc2.txt\"]  # define manually\n",
    "\n",
    "retrieved, p, r = precision_recall(query, answer_set, mode=\"AND\")\n"
   ]
  },
  {
   "cell_type": "code",
   "execution_count": 8,
   "id": "e148fb6a-289e-4e99-98fd-68b7683bbbe2",
   "metadata": {},
   "outputs": [],
   "source": [
    "# Case 1: β = 1 (equal weight)\n",
    "f1, e1 = f_and_e_scores(p, r, beta=1)"
   ]
  },
  {
   "cell_type": "code",
   "execution_count": 9,
   "id": "963ddd53-7381-417e-bf3c-09bdc25c9307",
   "metadata": {},
   "outputs": [],
   "source": [
    "# Case 2: β < 1 (precision weighted, e.g., β=0.5)\n",
    "f2, e2 = f_and_e_scores(p, r, beta=0.5)"
   ]
  },
  {
   "cell_type": "code",
   "execution_count": 10,
   "id": "5ad4ccba-666a-407d-bc85-ad82381e155d",
   "metadata": {},
   "outputs": [],
   "source": [
    "# Case 3: β > 1 (recall weighted, e.g., β=2)\n",
    "f3, e3 = f_and_e_scores(p, r, beta=2)"
   ]
  },
  {
   "cell_type": "code",
   "execution_count": 12,
   "id": "78da8e7f-80e8-4418-831c-52eeb01f2dd2",
   "metadata": {},
   "outputs": [
    {
     "name": "stdout",
     "output_type": "stream",
     "text": [
      "\n",
      "Query: artificial intelligence\n",
      "Retrieved Docs: {'doc2.txt', 'doc3.txt', 'doc1.txt'}\n",
      "Precision: 0.67, Recall: 1.00\n",
      "F-measure (β=1): 0.80, E-measure: 0.20\n",
      "F-measure (β=0.5): 0.80, E-measure: 0.29\n",
      "F-measure (β=2): 0.80, E-measure: 0.09\n"
     ]
    }
   ],
   "source": [
    "print(f\"\\nQuery: {query}\")\n",
    "print(f\"Retrieved Docs: {retrieved}\")\n",
    "print(f\"Precision: {p:.2f}, Recall: {r:.2f}\")\n",
    "print(f\"F-measure (β=1): {f1:.2f}, E-measure: {e1:.2f}\")\n",
    "print(f\"F-measure (β=0.5): {f2:.2f}, E-measure: {e2:.2f}\")\n",
    "print(f\"F-measure (β=2): {f3:.2f}, E-measure: {e3:.2f}\")"
   ]
  },
  {
   "cell_type": "code",
   "execution_count": null,
   "id": "fe589d6e-a75d-4d03-8c20-96e9c1c04f7d",
   "metadata": {},
   "outputs": [],
   "source": []
  }
 ],
 "metadata": {
  "kernelspec": {
   "display_name": "Python 3 (ipykernel)",
   "language": "python",
   "name": "python3"
  },
  "language_info": {
   "codemirror_mode": {
    "name": "ipython",
    "version": 3
   },
   "file_extension": ".py",
   "mimetype": "text/x-python",
   "name": "python",
   "nbconvert_exporter": "python",
   "pygments_lexer": "ipython3",
   "version": "3.11.8"
  }
 },
 "nbformat": 4,
 "nbformat_minor": 5
}
