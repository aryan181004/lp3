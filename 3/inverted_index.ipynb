{
 "cells": [
  {
   "cell_type": "code",
   "execution_count": 1,
   "id": "e78ee3e1-307b-4909-905b-2c5ea37cedac",
   "metadata": {},
   "outputs": [],
   "source": [
    "import json\n",
    "from nltk.stem import PorterStemmer\n",
    "import re"
   ]
  },
  {
   "cell_type": "code",
   "execution_count": 3,
   "id": "7d090d5b-b7ec-4e3b-8843-1c5ba90e1f95",
   "metadata": {},
   "outputs": [],
   "source": [
    "# Load document representatives\n",
    "with open(\"./input/documents.json\", \"r\") as f:\n",
    "    documents = json.load(f)\n"
   ]
  },
  {
   "cell_type": "code",
   "execution_count": 4,
   "id": "17bae674-65e2-4296-89dc-b80e31f436b8",
   "metadata": {},
   "outputs": [],
   "source": [
    "ps = PorterStemmer()"
   ]
  },
  {
   "cell_type": "code",
   "execution_count": 5,
   "id": "aa97546a-6cc2-4579-a7b8-309f929cef47",
   "metadata": {},
   "outputs": [],
   "source": [
    "# ---- Build inverted index ----\n",
    "inverted_index = {}\n",
    "\n",
    "for doc_name, rep in documents.items():\n",
    "    for word in rep.keys():\n",
    "        if word not in inverted_index:\n",
    "            inverted_index[word] = []\n",
    "        if doc_name not in inverted_index[word]:\n",
    "            inverted_index[word].append(doc_name)"
   ]
  },
  {
   "cell_type": "code",
   "execution_count": 6,
   "id": "1c119aa4-920f-4175-921a-0df5e38a2145",
   "metadata": {},
   "outputs": [],
   "source": [
    "# ---- Query function ----\n",
    "def search(query, mode=\"OR\"):\n",
    "    # preprocess query\n",
    "    words = re.findall(r\"\\b[a-z]+\\b\", query.lower())\n",
    "    stems = [ps.stem(w) for w in words]\n",
    "\n",
    "    result_sets = []\n",
    "    for stem in stems:\n",
    "        if stem in inverted_index:\n",
    "            result_sets.append(set(inverted_index[stem]))\n",
    "        else:\n",
    "            result_sets.append(set())\n",
    "    \n",
    "    if not result_sets:\n",
    "        return []\n",
    "\n",
    "    if mode == \"AND\":\n",
    "        result = set.intersection(*result_sets)\n",
    "    else:  # OR search\n",
    "        result = set.union(*result_sets)\n",
    "\n",
    "    return list(result)\n"
   ]
  },
  {
   "cell_type": "code",
   "execution_count": 8,
   "id": "ccd1edaf-dccb-4750-8da2-34b810142605",
   "metadata": {},
   "outputs": [
    {
     "name": "stdout",
     "output_type": "stream",
     "text": [
      "\n",
      "Inverted Index:\n",
      "machin: ['doc1.txt', 'doc2.txt']\n",
      "learn: ['doc1.txt', 'doc2.txt']\n",
      "subset: ['doc1.txt']\n",
      "artifici: ['doc1.txt', 'doc2.txt', 'doc3.txt']\n",
      "intellig: ['doc1.txt', 'doc2.txt', 'doc3.txt']\n",
      "algorithm: ['doc1.txt']\n",
      "build: ['doc1.txt']\n",
      "mathemat: ['doc1.txt']\n",
      "model: ['doc1.txt']\n",
      "base: ['doc1.txt']\n",
      "sampl: ['doc1.txt']\n",
      "data: ['doc1.txt', 'doc3.txt']\n",
      "known: ['doc1.txt']\n",
      "train: ['doc1.txt']\n",
      "make: ['doc1.txt', 'doc3.txt']\n",
      "predict: ['doc1.txt']\n",
      "decis: ['doc1.txt', 'doc3.txt']\n",
      "without: ['doc1.txt']\n",
      "explicitli: ['doc1.txt']\n",
      "program: ['doc1.txt']\n",
      "simul: ['doc2.txt']\n",
      "human: ['doc2.txt']\n",
      "process: ['doc2.txt', 'doc3.txt']\n",
      "ai: ['doc2.txt']\n",
      "applic: ['doc2.txt']\n",
      "includ: ['doc2.txt']\n",
      "natur: ['doc2.txt']\n",
      "languag: ['doc2.txt']\n",
      "speech: ['doc2.txt']\n",
      "recognit: ['doc2.txt']\n",
      "comput: ['doc2.txt', 'doc4.txt']\n",
      "vision: ['doc2.txt']\n",
      "abil: ['doc2.txt']\n",
      "reason: ['doc2.txt']\n",
      "self: ['doc2.txt']\n",
      "correct: ['doc2.txt']\n",
      "mine: ['doc3.txt']\n",
      "discov: ['doc3.txt']\n",
      "pattern: ['doc3.txt']\n",
      "larg: ['doc3.txt']\n",
      "dataset: ['doc3.txt']\n",
      "combin: ['doc3.txt']\n",
      "statist: ['doc3.txt']\n",
      "databas: ['doc3.txt']\n",
      "system: ['doc3.txt']\n",
      "use: ['doc3.txt']\n",
      "inform: ['doc3.txt']\n",
      "help: ['doc3.txt']\n",
      "network: ['doc4.txt']\n",
      "connect: ['doc4.txt']\n",
      "devic: ['doc4.txt']\n",
      "enabl: ['doc4.txt']\n",
      "commun: ['doc4.txt']\n",
      "involv: ['doc4.txt']\n",
      "protocol: ['doc4.txt']\n",
      "topolog: ['doc4.txt']\n",
      "transmiss: ['doc4.txt']\n",
      "media: ['doc4.txt']\n",
      "internet: ['doc4.txt']\n",
      "largest: ['doc4.txt']\n",
      "support: ['doc4.txt']\n",
      "global: ['doc4.txt']\n"
     ]
    }
   ],
   "source": [
    "print(\"\\nInverted Index:\")\n",
    "for word, docs in inverted_index.items():\n",
    "    print(f\"{word}: {docs}\")\n"
   ]
  },
  {
   "cell_type": "code",
   "execution_count": 34,
   "id": "496c519c-0be3-4bce-8b4b-b09ba3f38c3f",
   "metadata": {},
   "outputs": [
    {
     "name": "stdout",
     "output_type": "stream",
     "text": [
      "Inverted index saved to inverted_index.json\n"
     ]
    }
   ],
   "source": [
    "# Save inverted index to JSON file\n",
    "with open(\"./output/inverted_index.json\", \"w\") as f:\n",
    "    json.dump(inverted_index, f, indent=4)\n",
    "\n",
    "print(\"Inverted index saved to inverted_index.json\")\n"
   ]
  },
  {
   "cell_type": "code",
   "execution_count": 33,
   "id": "40450749-fce5-40ba-ba4f-be75ae9e5f67",
   "metadata": {},
   "outputs": [
    {
     "name": "stdout",
     "output_type": "stream",
     "text": [
      "\n",
      "Search Results:\n",
      "Query: data → ['doc1.txt', 'doc3.txt']\n",
      "Query: computer network protocol → ['doc4.txt']\n",
      "Query: topological data mining → []\n"
     ]
    }
   ],
   "source": [
    "print(\"\\nSearch Results:\")\n",
    "print(\"Query: data →\", search(\"data\", mode=\"OR\"))\n",
    "print(\"Query: computer network protocol →\", search(\"computer network protocol\", mode=\"AND\"))\n",
    "print(\"Query: topological data mining →\", search(\"topological data mining\", mode=\"AND\"))"
   ]
  },
  {
   "cell_type": "code",
   "execution_count": null,
   "id": "8f64ce85-f1a9-402a-8b4a-72003d16c14a",
   "metadata": {},
   "outputs": [],
   "source": []
  }
 ],
 "metadata": {
  "kernelspec": {
   "display_name": "Python 3 (ipykernel)",
   "language": "python",
   "name": "python3"
  },
  "language_info": {
   "codemirror_mode": {
    "name": "ipython",
    "version": 3
   },
   "file_extension": ".py",
   "mimetype": "text/x-python",
   "name": "python",
   "nbconvert_exporter": "python",
   "pygments_lexer": "ipython3",
   "version": "3.11.8"
  }
 },
 "nbformat": 4,
 "nbformat_minor": 5
}
