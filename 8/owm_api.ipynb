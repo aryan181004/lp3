{
 "cells": [
  {
   "cell_type": "code",
   "execution_count": 1,
   "id": "35433fb7-eb5d-4629-8d3f-eb0133618199",
   "metadata": {},
   "outputs": [],
   "source": [
    "import requests"
   ]
  },
  {
   "cell_type": "code",
   "execution_count": 2,
   "id": "e518e2fd-9eca-4939-9e28-133d8f18dcd3",
   "metadata": {},
   "outputs": [],
   "source": [
    "def get_weather(city, api_key):\n",
    "    base_url = \"http://api.openweathermap.org/data/2.5/weather\"\n",
    "    params = {\n",
    "        \"q\": city,\n",
    "        \"appid\": api_key,\n",
    "        \"units\": \"metric\"\n",
    "    }\n",
    "    \n",
    "    try:\n",
    "        response = requests.get(base_url, params=params, timeout=5)\n",
    "        data = response.json()\n",
    "\n",
    "        if response.status_code != 200:\n",
    "            print(f\"Error: {data.get('message', 'Unknown error')}\")\n",
    "            return None\n",
    "\n",
    "        weather = {\n",
    "            \"City\": data[\"name\"],\n",
    "            \"Temperature\": data[\"main\"][\"temp\"],\n",
    "            \"Min Temp\": data[\"main\"][\"temp_min\"],\n",
    "            \"Max Temp\": data[\"main\"][\"temp_max\"],\n",
    "            \"Pressure\": data[\"main\"][\"pressure\"],\n",
    "            \"Humidity\": data[\"main\"][\"humidity\"],\n",
    "            \"Weather\": data[\"weather\"][0][\"description\"],\n",
    "            \"Wind Speed\": data[\"wind\"][\"speed\"]\n",
    "        }\n",
    "\n",
    "        return weather\n",
    "\n",
    "    except Exception as e:\n",
    "        print(\"Error fetching data:\", e)\n",
    "        return None"
   ]
  },
  {
   "cell_type": "code",
   "execution_count": 3,
   "id": "43e5c4d0-4f7e-4ac5-b6da-1f7ad2074077",
   "metadata": {},
   "outputs": [
    {
     "name": "stdout",
     "output_type": "stream",
     "text": [
      "\n",
      "Weather Report:\n",
      "City: Pune\n",
      "Temperature: 28.56\n",
      "Min Temp: 28.56\n",
      "Max Temp: 28.56\n",
      "Pressure: 1006\n",
      "Humidity: 73\n",
      "Weather: overcast clouds\n",
      "Wind Speed: 2.89\n"
     ]
    }
   ],
   "source": [
    "API_KEY = \"68c237e4f9ae659066eb7afa5908a5d7\"\n",
    "city = \"Pune\"\n",
    "\n",
    "weather_info = get_weather(city, API_KEY)\n",
    "if weather_info:\n",
    "    print(\"\\nWeather Report:\")\n",
    "    for k, v in weather_info.items():\n",
    "        print(f\"{k}: {v}\")"
   ]
  },
  {
   "cell_type": "code",
   "execution_count": null,
   "id": "69363823-8496-441e-ae24-e1c6a0abc043",
   "metadata": {},
   "outputs": [],
   "source": []
  }
 ],
 "metadata": {
  "kernelspec": {
   "display_name": "Python 3 (ipykernel)",
   "language": "python",
   "name": "python3"
  },
  "language_info": {
   "codemirror_mode": {
    "name": "ipython",
    "version": 3
   },
   "file_extension": ".py",
   "mimetype": "text/x-python",
   "name": "python",
   "nbconvert_exporter": "python",
   "pygments_lexer": "ipython3",
   "version": "3.11.8"
  }
 },
 "nbformat": 4,
 "nbformat_minor": 5
}
