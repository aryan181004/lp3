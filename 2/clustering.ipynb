{
 "cells": [
  {
   "cell_type": "code",
   "execution_count": 1,
   "id": "bf96c0d7-056b-48c7-84c7-35e6a58c956f",
   "metadata": {},
   "outputs": [],
   "source": [
    "import json\n",
    "import math"
   ]
  },
  {
   "cell_type": "code",
   "execution_count": 2,
   "id": "bc57bdb0-506b-4630-89e2-45776c1363f1",
   "metadata": {},
   "outputs": [],
   "source": [
    "# Load the document representatives\n",
    "with open(\"./input/documents.json\", \"r\") as f:\n",
    "    documents = json.load(f)"
   ]
  },
  {
   "cell_type": "code",
   "execution_count": 4,
   "id": "91bcffa6-f642-4c58-a969-e278b9064359",
   "metadata": {},
   "outputs": [],
   "source": [
    "# ---- Cosine Similarity ----\n",
    "def cosine_similarity(doc1, doc2):\n",
    "    # union of all words\n",
    "    words = set(doc1.keys()).union(set(doc2.keys()))\n",
    "    \n",
    "    # create vectors\n",
    "    v1 = [doc1.get(w, 0) for w in words]\n",
    "    v2 = [doc2.get(w, 0) for w in words]\n",
    "    \n",
    "    # dot product\n",
    "    dot = sum(a*b for a, b in zip(v1, v2))\n",
    "    \n",
    "    # magnitudes\n",
    "    mag1 = math.sqrt(sum(a*a for a in v1))\n",
    "    mag2 = math.sqrt(sum(b*b for b in v2))\n",
    "    \n",
    "    if mag1 == 0 or mag2 == 0:\n",
    "        return 0.0\n",
    "    \n",
    "    return dot / (mag1 * mag2)"
   ]
  },
  {
   "cell_type": "code",
   "execution_count": 5,
   "id": "a02c724f-d1bc-4222-bc43-91d83ea33bfd",
   "metadata": {},
   "outputs": [],
   "source": [
    "# ---- Single-pass clustering ----\n",
    "def single_pass_clustering(documents, threshold=0.3):\n",
    "    clusters = []   # list of (cluster_rep, [docs])\n",
    "    \n",
    "    for doc_name, doc_rep in documents.items():\n",
    "        if not clusters:\n",
    "            clusters.append((doc_rep, [doc_name]))\n",
    "            continue\n",
    "        \n",
    "        placed = False\n",
    "        for i, (rep, docs) in enumerate(clusters):\n",
    "            sim = cosine_similarity(doc_rep, rep)\n",
    "            if sim >= threshold:\n",
    "                docs.append(doc_name)\n",
    "                # update cluster representative (average frequencies)\n",
    "                for w, f in doc_rep.items():\n",
    "                    rep[w] = rep.get(w, 0) + f\n",
    "                clusters[i] = (rep, docs)\n",
    "                placed = True\n",
    "                break\n",
    "        \n",
    "        if not placed:\n",
    "            clusters.append((doc_rep, [doc_name]))\n",
    "    \n",
    "    return clusters"
   ]
  },
  {
   "cell_type": "code",
   "execution_count": 22,
   "id": "b1c3c5a0-cec8-4a78-91b5-51bb835afbaa",
   "metadata": {},
   "outputs": [],
   "source": [
    "# ---- Run clustering ----\n",
    "clusters = single_pass_clustering(documents, threshold=0.75)"
   ]
  },
  {
   "cell_type": "code",
   "execution_count": 23,
   "id": "52132b7b-969f-4b92-95bf-3a67621ed1de",
   "metadata": {},
   "outputs": [
    {
     "name": "stdout",
     "output_type": "stream",
     "text": [
      "\n",
      "Cluster 1: ['doc1.txt', 'doc2.txt']\n",
      "\n",
      "Cluster 2: ['doc3.txt']\n",
      "\n",
      "Cluster 3: ['doc4.txt']\n"
     ]
    }
   ],
   "source": [
    "# Print result\n",
    "for idx, (rep, docs) in enumerate(clusters, 1):\n",
    "    print(f\"\\nCluster {idx}: {docs}\")"
   ]
  },
  {
   "cell_type": "code",
   "execution_count": null,
   "id": "5aa624e9-bc56-49eb-9fa7-e1149f3e683d",
   "metadata": {},
   "outputs": [],
   "source": []
  }
 ],
 "metadata": {
  "kernelspec": {
   "display_name": "Python 3 (ipykernel)",
   "language": "python",
   "name": "python3"
  },
  "language_info": {
   "codemirror_mode": {
    "name": "ipython",
    "version": 3
   },
   "file_extension": ".py",
   "mimetype": "text/x-python",
   "name": "python",
   "nbconvert_exporter": "python",
   "pygments_lexer": "ipython3",
   "version": "3.11.8"
  }
 },
 "nbformat": 4,
 "nbformat_minor": 5
}
