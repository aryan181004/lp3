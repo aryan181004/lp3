{
 "cells": [
  {
   "cell_type": "code",
   "execution_count": 1,
   "id": "bf96c0d7-056b-48c7-84c7-35e6a58c956f",
   "metadata": {},
   "outputs": [],
   "source": [
    "import json\n",
    "import math"
   ]
  },
  {
   "cell_type": "code",
   "execution_count": 2,
   "id": "bc57bdb0-506b-4630-89e2-45776c1363f1",
   "metadata": {},
   "outputs": [],
   "source": [
    "# Load the document representatives\n",
    "with open(\"./input/documents.json\", \"r\") as f:\n",
    "    documents = json.load(f)"
   ]
  },
  {
   "cell_type": "code",
   "execution_count": null,
   "id": "91bcffa6-f642-4c58-a969-e278b9064359",
   "metadata": {},
   "outputs": [],
   "source": []
  }
 ],
 "metadata": {
  "kernelspec": {
   "display_name": "Python 3 (ipykernel)",
   "language": "python",
   "name": "python3"
  },
  "language_info": {
   "codemirror_mode": {
    "name": "ipython",
    "version": 3
   },
   "file_extension": ".py",
   "mimetype": "text/x-python",
   "name": "python",
   "nbconvert_exporter": "python",
   "pygments_lexer": "ipython3",
   "version": "3.11.8"
  }
 },
 "nbformat": 4,
 "nbformat_minor": 5
}
