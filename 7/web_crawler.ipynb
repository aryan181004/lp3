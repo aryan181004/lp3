{
 "cells": [
  {
   "cell_type": "code",
   "execution_count": 1,
   "id": "292deaef-69e5-42ec-83f1-39e8d582fb04",
   "metadata": {},
   "outputs": [],
   "source": [
    "import requests\n",
    "from bs4 import BeautifulSoup\n",
    "from urllib.parse import urljoin"
   ]
  },
  {
   "cell_type": "code",
   "execution_count": 2,
   "id": "69cd488d-3899-4359-8fe0-20d396f6e11a",
   "metadata": {},
   "outputs": [],
   "source": [
    "def web_crawler(seed_url, max_pages=10):\n",
    "    visited = set()\n",
    "    to_visit = [seed_url]\n",
    "\n",
    "    while to_visit and len(visited) < max_pages:\n",
    "        url = to_visit.pop(0)   # BFS → queue\n",
    "        if url in visited:\n",
    "            continue\n",
    "\n",
    "        try:\n",
    "            response = requests.get(url, timeout=5)\n",
    "            if response.status_code != 200:\n",
    "                continue\n",
    "\n",
    "            visited.add(url)\n",
    "            print(f\"\\nCrawled: {url}\")\n",
    "\n",
    "            soup = BeautifulSoup(response.text, \"html.parser\")\n",
    "\n",
    "            # Extract all links\n",
    "            for link in soup.find_all(\"a\", href=True):\n",
    "                full_url = urljoin(url, link[\"href\"])\n",
    "                if full_url not in visited and full_url.startswith(\"http\"):\n",
    "                    to_visit.append(full_url)\n",
    "\n",
    "        except Exception as e:\n",
    "            print(f\"Error fetching {url}: {e}\")\n",
    "\n",
    "    return visited\n"
   ]
  },
  {
   "cell_type": "code",
   "execution_count": 9,
   "id": "c441080a-0fb1-42df-bbcd-ae8cc1d63db2",
   "metadata": {},
   "outputs": [
    {
     "name": "stdout",
     "output_type": "stream",
     "text": [
      "\n",
      "Crawled: https://www.youtube.com/\n",
      "\n",
      "Crawled: https://www.youtube.com/about/\n",
      "\n",
      "Crawled: https://www.youtube.com/about/press/\n",
      "\n",
      "Crawled: https://www.youtube.com/about/copyright/\n",
      "\n",
      "Crawled: https://www.youtube.com/t/contact_us/\n",
      "\n",
      "Crawled: https://www.youtube.com/creators/\n",
      "\n",
      "Crawled: https://www.youtube.com/ads/\n",
      "\n",
      "Crawled: https://developers.google.com/youtube\n",
      "\n",
      "Crawled: https://www.youtube.com/t/terms\n",
      "\n",
      "Crawled: https://www.youtube.com/t/privacy\n",
      "\n",
      "Crawled: https://www.youtube.com/about/policies/\n",
      "\n",
      "Crawled: https://www.youtube.com/howyoutubeworks?utm_campaign=ytgen&utm_source=ythp&utm_medium=LeftNav&utm_content=txt&u=https%3A%2F%2Fwww.youtube.com%2Fhowyoutubeworks%3Futm_source%3Dythp%26utm_medium%3DLeftNav%26utm_campaign%3Dytgen\n",
      "\n",
      "Crawled: https://www.youtube.com/new\n",
      "\n",
      "Crawled: https://www.youtube.com/about/#content\n",
      "\n",
      "Crawled: https://www.youtube.com/howyoutubeworks/\n"
     ]
    }
   ],
   "source": [
    "seed = \"https://www.youtube.com/\"\n",
    "crawled_urls = web_crawler(seed, max_pages=15)"
   ]
  },
  {
   "cell_type": "code",
   "execution_count": null,
   "id": "43c9007b-47c4-4152-8a2d-adad8198bc27",
   "metadata": {},
   "outputs": [],
   "source": []
  }
 ],
 "metadata": {
  "kernelspec": {
   "display_name": "Python 3 (ipykernel)",
   "language": "python",
   "name": "python3"
  },
  "language_info": {
   "codemirror_mode": {
    "name": "ipython",
    "version": 3
   },
   "file_extension": ".py",
   "mimetype": "text/x-python",
   "name": "python",
   "nbconvert_exporter": "python",
   "pygments_lexer": "ipython3",
   "version": "3.11.8"
  }
 },
 "nbformat": 4,
 "nbformat_minor": 5
}
